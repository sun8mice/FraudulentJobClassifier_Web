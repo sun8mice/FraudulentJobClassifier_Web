{
 "cells": [
  {
   "cell_type": "code",
   "execution_count": 1,
   "metadata": {},
   "outputs": [],
   "source": [
    "import pandas as pd\n",
    "import matplotlib.pyplot as plt\n",
    "import seaborn as sns\n",
    "from bs4 import BeautifulSoup\n",
    "from wordcloud import WordCloud\n",
    "import spacy\n",
    "from spacy.lang.en.stop_words import STOP_WORDS\n",
    "from spacy.lang.en import English\n",
    "from scipy.stats import mode"
   ]
  },
  {
   "cell_type": "code",
   "execution_count": 2,
   "metadata": {},
   "outputs": [],
   "source": [
    "# 导入csv文件\n",
    "file_path = './dataset/DataSet.csv' \n",
    "data = pd.read_csv(file_path)"
   ]
  },
  {
   "cell_type": "code",
   "execution_count": 3,
   "metadata": {},
   "outputs": [],
   "source": [
    "#映射\n",
    "data['fraudulent']=data['fraudulent'].map({'f':0,'t':1})\n",
    "\n",
    "# 删除非平衡记录\n",
    "data = data[data['in_balanced_dataset'] == 't']\n",
    "\n",
    "#删除一些特征\n",
    "columns=['in_balanced_dataset', 'telecommuting', 'has_company_logo', 'has_questions', 'salary_range', 'employment_type']\n",
    "\n",
    "for col in columns:\n",
    "    data.drop(col, axis=1, inplace=True)\n",
    "\n",
    "def split(location):\n",
    "    l = location.split(',')\n",
    "    return l[0]\n",
    "\n",
    "#填充空值\n",
    "data.fillna('unkonwn', inplace=True)\n",
    "\n",
    "# 2.2.2 去重\n",
    "data.drop_duplicates(inplace=True)\n",
    "\n",
    "#删除了country字典中的空格键。\n",
    "data['country'] = data.location.apply(split)\n",
    "\n",
    "#合并文本数据类型特征，开始数据清洗\n",
    "data['text']=(data['title']+' '+data['location']+' '+data['department']\n",
    "              +' '+data['company_profile']+' '+data['description']+' '+data['requirements']\n",
    "              +' '+data['benefits']+' '+data['required_experience']+' '+data['required_education']\n",
    "              +' '+data['industry']+' '+data['function']+' '+data['country'])\n",
    "\n",
    "del data['title']\n",
    "del data['location']\n",
    "del data['department']\n",
    "del data['company_profile']\n",
    "del data['description']\n",
    "del data['requirements']\n",
    "del data['benefits']\n",
    "del data['required_experience']\n",
    "del data['required_education']\n",
    "del data['industry']\n",
    "del data['function']\n",
    "del data['country']"
   ]
  },
  {
   "cell_type": "code",
   "execution_count": 4,
   "metadata": {},
   "outputs": [],
   "source": [
    "data['text'] = data['text'].apply(lambda x: BeautifulSoup(x, 'html.parser').get_text(strip=True))"
   ]
  }
 ],
 "metadata": {
  "kernelspec": {
   "display_name": "py39",
   "language": "python",
   "name": "python3"
  },
  "language_info": {
   "codemirror_mode": {
    "name": "ipython",
    "version": 3
   },
   "file_extension": ".py",
   "mimetype": "text/x-python",
   "name": "python",
   "nbconvert_exporter": "python",
   "pygments_lexer": "ipython3",
   "version": "3.9.18"
  }
 },
 "nbformat": 4,
 "nbformat_minor": 2
}
