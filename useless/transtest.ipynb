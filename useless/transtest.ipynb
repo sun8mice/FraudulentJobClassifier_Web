{
 "cells": [
  {
   "cell_type": "code",
   "execution_count": 5,
   "metadata": {},
   "outputs": [
    {
     "name": "stdout",
     "output_type": "stream",
     "text": [
      "翻译结果: Hello, World!\n"
     ]
    }
   ],
   "source": [
    "import datapreprocess\n",
    "\n",
    "# 测试翻译函数\n",
    "text_to_translate = \"你好，世界！\"\n",
    "try:\n",
    "    translated_text = datapreprocess.translate_CH2EN(text_to_translate)\n",
    "    print(\"翻译结果:\", translated_text)\n",
    "except Exception as e:\n",
    "    print(e)"
   ]
  }
 ],
 "metadata": {
  "kernelspec": {
   "display_name": "py39",
   "language": "python",
   "name": "python3"
  },
  "language_info": {
   "codemirror_mode": {
    "name": "ipython",
    "version": 3
   },
   "file_extension": ".py",
   "mimetype": "text/x-python",
   "name": "python",
   "nbconvert_exporter": "python",
   "pygments_lexer": "ipython3",
   "version": "3.9.18"
  }
 },
 "nbformat": 4,
 "nbformat_minor": 2
}
